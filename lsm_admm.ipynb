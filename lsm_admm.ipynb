{
 "cells": [
  {
   "cell_type": "markdown",
   "metadata": {},
   "source": [
    "# スパース回帰\n",
    "ガウスカーネルモデルに対して，交互方向乗数法によるスパース回帰を実行する  "
   ]
  },
  {
   "cell_type": "code",
   "execution_count": 1,
   "metadata": {},
   "outputs": [],
   "source": [
    "import numpy as np\n",
    "import matplotlib.pyplot as plt\n",
    "%matplotlib inline"
   ]
  },
  {
   "cell_type": "code",
   "execution_count": 2,
   "metadata": {},
   "outputs": [],
   "source": [
    "#曲線に沿ってノイズを含んだサンプルを生成\n",
    "def generate_sample(xmin, xmax, sample_size):\n",
    "    np.random.seed(0)\n",
    "    x = np.linspace(start=xmin, stop=xmax, num=sample_size)\n",
    "    pix = np.pi * x\n",
    "    target = np.sin(pix) / pix + 0.1 * x\n",
    "    noise = 0.05 * np.random.normal(loc=0., scale=1., size=sample_size)\n",
    "    return x, target + noise"
   ]
  },
  {
   "cell_type": "code",
   "execution_count": 3,
   "metadata": {},
   "outputs": [],
   "source": [
    "#ガウスカーネルを生成\n",
    "def calc_design_matrix(x, c, h):\n",
    "    return np.exp(-(x[None] - c[:, None]) ** 2 / (2 * h ** 2))"
   ]
  },
  {
   "cell_type": "code",
   "execution_count": 4,
   "metadata": {},
   "outputs": [],
   "source": [
    "#交互方向乗数法によって最適なthetaを求める関数\n",
    "def lsm_admm(l, h, x_train, y_train):\n",
    "    k = calc_design_matrix(x_train, x_train, h)\n",
    "    theta = np.random.rand(len(k))\n",
    "    theta_old = np.zeros(len(k))\n",
    "    z = theta\n",
    "    u = np.random.rand(len(k))\n",
    "    \n",
    "    e = 1e-5 #更新後の変化量が小さくなったら打ち切る\n",
    "    while np.linalg.norm(theta - theta_old) > e:\n",
    "        theta_old = theta\n",
    "        theta = np.linalg.solve(k.T.dot(k) + np.identity(len(k)), k.T.dot(y_train[:, None]).reshape(-1,) + z - u)\n",
    "        z = np.maximum(0, theta + u - l*np.ones(len(k)) ) - np.maximum(0, -theta - u - l*np.ones(len(k)) )\n",
    "        u = u + theta - z\n",
    "        theta = z\n",
    "    return theta"
   ]
  },
  {
   "cell_type": "markdown",
   "metadata": {},
   "source": [
    "## Main (交互方向乗数法)\n",
    "train data 50個　test data 20個　同じ分布に従うサンプルを生成  \n",
    "パラメータh, lは手動で調整  \n",
    "スパース性を確認するため，最適化されたthetaと，thetaの成分のうち0であるものの割合 (sparse rate) を表示  \n",
    "またtest data のlossも表示  \n",
    "プロットにおいて緑点はtrain_data, 赤点はtest_data, 青線は予測した曲線  "
   ]
  },
  {
   "cell_type": "code",
   "execution_count": 5,
   "metadata": {},
   "outputs": [
    {
     "name": "stdout",
     "output_type": "stream",
     "text": [
      "theta : \n",
      " [-0.12454482  0.          0.          0.          0.          0.\n",
      "  0.          0.          0.          0.          0.          0.\n",
      " -0.153711   -0.15436382  0.          0.          0.          0.\n",
      "  0.          0.          0.          0.          0.          0.\n",
      "  0.12834748  0.91920799  0.          0.          0.          0.\n",
      "  0.          0.          0.          0.          0.         -0.06089532\n",
      " -0.02636514  0.          0.          0.          0.          0.\n",
      "  0.          0.          0.          0.19911137  0.16022963  0.\n",
      "  0.          0.        ]\n",
      "sparse rate : 0.82\n",
      "test loss : 0.22946655476858313\n"
     ]
    },
    {
     "data": {
      "image/png": "[encoded data removed]",
      "text/plain": [
       "<Figure size 432x288 with 1 Axes>"
      ]
     },
     "metadata": {},
     "output_type": "display_data"
    }
   ],
   "source": [
    "xmin, xmax = -3, 3\n",
    "x_train, y_train = generate_sample(xmin=xmin, xmax=xmax, sample_size=50)\n",
    "x_test, y_test = generate_sample(xmin=xmin, xmax=xmax, sample_size=20)\n",
    "\n",
    "h = 0.5\n",
    "l = 0.1\n",
    "\n",
    "#train\n",
    "theta = lsm_admm(l, h, x_train, y_train)\n",
    "print('theta : \\n', theta)\n",
    "print('sparse rate :', np.mean(theta==0))\n",
    "\n",
    "#test\n",
    "k_test = calc_design_matrix(x_train, x_test, h)\n",
    "pred_test = k_test.dot(theta).reshape(-1,)\n",
    "loss = np.dot((pred_test - y_test),(pred_test - y_test))/2 + l*np.linalg.norm(theta, ord=1)\n",
    "print('test loss :', loss)\n",
    "\n",
    "# create data to visualize the prediction\n",
    "x_plot = np.linspace(start=xmin, stop=xmax, num=5000)\n",
    "k_plot = calc_design_matrix(x_train, x_plot, h)\n",
    "prediction = k_plot.dot(theta)\n",
    "\n",
    "# visualization\n",
    "plt.clf()\n",
    "plt.scatter(x_train, y_train, c='green', marker='o')\n",
    "plt.scatter(x_test, y_test, c='red', marker='o')\n",
    "plt.plot(x_plot, prediction)\n",
    "plt.savefig('lsm_admm.png')"
   ]
  },
  {
   "cell_type": "markdown",
   "metadata": {},
   "source": [
    "うまく値を選ぶと，例えば h = 0.5, l = 0.1 のときsparse rate = 0.82 と高いスパース性のある解が得られた．またlossの値はL2ノルムを使った場合と同程度の結果が得られ，精度が保たれていることがわかる．   \n",
    "勾配法のためパラメータの値によっては計算時間がかなり長くなった．  \n",
    "hを大きくすると曲線が緩やかになってスパース性が向上し，逆に小さくするとスパース性が低下した．  \n",
    "lを変化させても極端な値でない限りスパース性の度合いはあまり変化しなかった．  "
   ]
  },
  {
   "cell_type": "code",
   "execution_count": null,
   "metadata": {},
   "outputs": [],
   "source": []
  }
 ],
 "metadata": {
  "kernelspec": {
   "display_name": "Python 3",
   "language": "python",
   "name": "python3"
  },
  "language_info": {
   "codemirror_mode": {
    "name": "ipython",
    "version": 3
   },
   "file_extension": ".py",
   "mimetype": "text/x-python",
   "name": "python",
   "nbconvert_exporter": "python",
   "pygments_lexer": "ipython3",
   "version": "3.6.5"
  }
 },
 "nbformat": 4,
 "nbformat_minor": 2
}
