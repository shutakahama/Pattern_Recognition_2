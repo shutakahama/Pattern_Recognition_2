{
 "cells": [
  {
   "cell_type": "markdown",
   "metadata": {},
   "source": [
    "# 局所性保存射影\n",
    "データ集合に対し類似度行列を定義し，局所性保存射影を求めることで，教師なしの次元削減を行う．  \n",
    "クラスタ構造を保持したまま分散が大きくなるような射影軸を求める．  "
   ]
  },
  {
   "cell_type": "code",
   "execution_count": 1,
   "metadata": {},
   "outputs": [],
   "source": [
    "import numpy as np\n",
    "import scipy.linalg\n",
    "%matplotlib inline\n",
    "import matplotlib.pyplot as plt"
   ]
  },
  {
   "cell_type": "code",
   "execution_count": 2,
   "metadata": {},
   "outputs": [],
   "source": [
    "# クラスタが1つのデータ\n",
    "def data_generation1(n=100, random_state=0):\n",
    "    np.random.seed(random_state)\n",
    "    return np.concatenate([np.random.randn(n, 1) * 2, np.random.randn(n, 1)],\n",
    "                          axis=1)"
   ]
  },
  {
   "cell_type": "code",
   "execution_count": 3,
   "metadata": {},
   "outputs": [],
   "source": [
    "# クラスタが２つあるようなデータ\n",
    "def data_generation2(n=100, random_state=0):\n",
    "    np.random.seed(random_state)\n",
    "    return np.concatenate([np.random.randn(n, 1) * 2, 2 * np.round(\n",
    "        np.random.rand(n, 1)) - 1 + np.random.randn(n, 1) / 3.], axis=1)"
   ]
  },
  {
   "cell_type": "code",
   "execution_count": 4,
   "metadata": {},
   "outputs": [],
   "source": [
    "def lpp(x, n_components=1):\n",
    "    x = x - np.mean(x, axis=0)\n",
    "    W = np.exp(-np.sum((x[:, None] - x[None]) ** 2, axis=2))  # 類似度行列\n",
    "    _d = np.sum(W,axis=1)\n",
    "    D = np.diag(_d)\n",
    "    L = D-W\n",
    "    w, v = scipy.linalg.eig(x.T.dot(L.dot(x)), x.T.dot(D.dot(x)))  # 固有値と固有ベクトルを求める\n",
    "    v = v[np.argsort(-w)]\n",
    "    w = w[np.argsort(-w)]\n",
    "    print('w: ',w)\n",
    "    print('v: ',v)\n",
    "    return w[:n_components], v[:n_components, :]  # 固有ベクトルをソートし指定した個数取り出す"
   ]
  },
  {
   "cell_type": "code",
   "execution_count": 5,
   "metadata": {},
   "outputs": [],
   "source": [
    "# 取り出した固有ベクトルにより描画\n",
    "def plot(x, v):\n",
    "    plt.xlim(-6., 6.)\n",
    "    plt.ylim(-6., 6.)\n",
    "    plt.plot(x[:, 0], x[:, 1], 'rx')\n",
    "    plt.plot(np.array([-v[:, 0], v[:, 0]]) * 9, np.array([-v[:, 1], v[:, 1]]) * 9)\n",
    "    #plt.savefig('lpp.png')\n",
    "    plt.show()"
   ]
  },
  {
   "cell_type": "code",
   "execution_count": 7,
   "metadata": {},
   "outputs": [
    {
     "name": "stdout",
     "output_type": "stream",
     "text": [
      "w:  [0.21939761+0.j 0.08576479+0.j]\n",
      "v:  [[-0.15647624  0.98965034]\n",
      " [-0.98768172 -0.14349985]]\n"
     ]
    },
    {
     "data": {
      "image/png": "[encoded data removed]",
      "text/plain": [
       "<Figure size 432x288 with 1 Axes>"
      ]
     },
     "metadata": {
      "needs_background": "light"
     },
     "output_type": "display_data"
    }
   ],
   "source": [
    "n = 100\n",
    "n_components = 1\n",
    "x = data_generation1(n, random_state=0)\n",
    "w, v = lpp(x, n_components)\n",
    "plot(x, v)"
   ]
  },
  {
   "cell_type": "code",
   "execution_count": 8,
   "metadata": {},
   "outputs": [
    {
     "name": "stdout",
     "output_type": "stream",
     "text": [
      "w:  [0.11337902+0.j 0.0952785 +0.j]\n",
      "v:  [[-0.05798226  0.99941842]\n",
      " [-0.99831761 -0.03410007]]\n"
     ]
    },
    {
     "data": {
      "image/png": "[encoded data removed]",
      "text/plain": [
       "<Figure size 432x288 with 1 Axes>"
      ]
     },
     "metadata": {
      "needs_background": "light"
     },
     "output_type": "display_data"
    }
   ],
   "source": [
    "n = 100\n",
    "n_components = 1\n",
    "x = data_generation2(n, random_state=0)\n",
    "w, v = lpp(x, n_components)\n",
    "plot(x, v)"
   ]
  },
  {
   "cell_type": "markdown",
   "metadata": {},
   "source": [
    "data1はクラスタが１つしかないまとまりのあるデータでうまく射影できている．  \n",
    "data2は分散は横方向に広いのに対しクラスタが縦方向に2つ存在している．\n",
    "このようなデータに局所性保存射影を適用すると，近くに存在するデータを近くに配置するため，\n",
    "クラスタ情報を保持したまま最大の分散を得られる射影軸を求めることができる．  "
   ]
  },
  {
   "cell_type": "code",
   "execution_count": null,
   "metadata": {},
   "outputs": [],
   "source": []
  }
 ],
 "metadata": {
  "kernelspec": {
   "display_name": "Python 3",
   "language": "python",
   "name": "python3"
  },
  "language_info": {
   "codemirror_mode": {
    "name": "ipython",
    "version": 3
   },
   "file_extension": ".py",
   "mimetype": "text/x-python",
   "name": "python",
   "nbconvert_exporter": "python",
   "pygments_lexer": "ipython3",
   "version": "3.7.5"
  }
 },
 "nbformat": 4,
 "nbformat_minor": 4
}
