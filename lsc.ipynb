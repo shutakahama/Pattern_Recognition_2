{
 "cells": [
  {
   "cell_type": "markdown",
   "metadata": {},
   "source": [
    "# 最小二乗分類\n",
    "ガウスカーネルに対する最小二乗回帰を応用した多クラス分類．  \n",
    "2クラス分類を複数回繰り返して多クラス分類を実現する．  \n",
    "1対他法と1対1法がある．  \n",
    "./digit 以下の数字データファイルを読み込む．  "
   ]
  },
  {
   "cell_type": "code",
   "execution_count": 1,
   "metadata": {},
   "outputs": [],
   "source": [
    "import numpy as np\n",
    "%matplotlib inline\n",
    "import matplotlib.pyplot as plt\n",
    "#from scipy.io import loadmat\n",
    "import pandas as pd\n",
    "import seaborn as sns\n",
    "from sklearn.metrics import confusion_matrix"
   ]
  },
  {
   "cell_type": "markdown",
   "metadata": {},
   "source": [
    "### データ読み込み\n",
    "./digit 以下には20個の各数字データファイル*(train / test)があり，それぞれ500個ずつの数字データが入っている．  \n",
    "train_data 5000個を全て使うと非常に計算が重くなったので2000データのみを使った．  "
   ]
  },
  {
   "cell_type": "code",
   "execution_count": 2,
   "metadata": {},
   "outputs": [],
   "source": [
    "#dataは2次元　(データ数 x 次元数256)． 上から0,1,2,,,と並んでいる\n",
    "train_num = 2000 #使うデータ数\n",
    "test_num = 2000\n",
    "\n",
    "train_data = np.zeros((train_num, 256))\n",
    "train_label = np.zeros(train_num)\n",
    "test_data = np.zeros((test_num, 256))\n",
    "test_label = np.zeros(test_num)\n",
    "for i in range(10):\n",
    "    train_data[int(train_num/10*i): int(train_num/10*(i+1)), :] = np.loadtxt('digit/digit_train{}.csv'.format(i) ,dtype=\"float\", delimiter=\",\")[:int(train_num/10)]\n",
    "    train_label[int(train_num/10*i): int(train_num/10*(i+1))] = i\n",
    "    test_data[int(test_num/10*i): int(test_num/10*(i+1)), :] = np.loadtxt('digit/digit_test{}.csv'.format(i) ,dtype=\"float\", delimiter=\",\")[:int(test_num/10)]\n",
    "    test_label[int(test_num/10*i): int(test_num/10*(i+1))] = i"
   ]
  },
  {
   "cell_type": "code",
   "execution_count": 3,
   "metadata": {},
   "outputs": [],
   "source": [
    "#matrix生成\n",
    "def design_mat(x1, x2, h):\n",
    "    return np.exp(-np.sum((x1[:, None] - x2[None]) ** 2, axis=-1) / (2 * h ** 2))"
   ]
  },
  {
   "cell_type": "code",
   "execution_count": 4,
   "metadata": {},
   "outputs": [],
   "source": [
    "#θの予測\n",
    "def optimize(k, y, l):\n",
    "    return np.linalg.solve(k.T.dot(k) + l * np.identity(len(y)), k.T.dot(y))"
   ]
  },
  {
   "cell_type": "code",
   "execution_count": 5,
   "metadata": {},
   "outputs": [],
   "source": [
    "#結果(confusion matrix)の表示\n",
    "def confusion_mat(pred, ans):\n",
    "    cmx_data = confusion_matrix(ans, pred, labels=[0,1,2,3,4,5,6,7,8,9])\n",
    "    print(cmx_data)\n",
    "    df_cmx = pd.DataFrame(cmx_data, index=[0,1,2,3,4,5,6,7,8,9], columns=[0,1,2,3,4,5,6,7,8,9])\n",
    "\n",
    "    plt.figure(figsize = (10,7))\n",
    "    sns.heatmap(df_cmx, annot=True)\n",
    "    plt.show()"
   ]
  },
  {
   "cell_type": "markdown",
   "metadata": {},
   "source": [
    "### 1対他法\n",
    "1つのクラスをターゲットとしそれ以外のクラスと２値分類する．クラス数をcとしてc回の2値分類問題を解く．  \n",
    "最終的にはc個の識別関数のうち最大値を与える関数に対応するクラスを予測クラスとする．  "
   ]
  },
  {
   "cell_type": "code",
   "execution_count": 7,
   "metadata": {},
   "outputs": [],
   "source": [
    "# データ取得．全データを使い，指定のクラスとそれ以外でラベルを分ける\n",
    "def get_data_1to9(data, idx):\n",
    "    y = np.ones(train_num)*-1\n",
    "    y[int(train_num/10)*idx: int(train_num/10)*(idx+1)] = 1\n",
    "    return data, y"
   ]
  },
  {
   "cell_type": "code",
   "execution_count": 9,
   "metadata": {},
   "outputs": [
    {
     "name": "stdout",
     "output_type": "stream",
     "text": [
      "count :  0\n",
      "count :  1\n",
      "count :  2\n",
      "count :  3\n",
      "count :  4\n",
      "count :  5\n",
      "count :  6\n",
      "count :  7\n",
      "count :  8\n",
      "count :  9\n",
      "accuracy :  0.9355\n",
      "[[196   0   1   0   0   0   3   0   0   0]\n",
      " [  0 199   1   0   0   0   0   0   0   0]\n",
      " [  1   0 179   4   9   0   0   3   4   0]\n",
      " [  0   0   0 186   0   8   0   2   4   0]\n",
      " [  0   2   0   0 185   0   3   0   2   8]\n",
      " [  4   0   1   8   2 181   1   0   0   3]\n",
      " [  2   0   2   0   1   2 193   0   0   0]\n",
      " [  0   2   0   0   2   0   0 189   0   7]\n",
      " [  2   1   1   6   2   7   0   0 180   1]\n",
      " [  0   3   0   0   6   0   0   6   2 183]]\n"
     ]
    },
    {
     "data": {
      "image/png": "[encoded data removed]",
      "text/plain": [
       "<Figure size 720x504 with 2 Axes>"
      ]
     },
     "metadata": {},
     "output_type": "display_data"
    }
   ],
   "source": [
    "pred_list = np.zeros((10,test_num))\n",
    "for i in range(10):\n",
    "    print('count : ',i)\n",
    "    x, y = get_data_1to9(train_data, i)\n",
    "    k = design_mat(x, x, 10.)\n",
    "    theta = optimize(k, y, 1.)  # 予測関数のパラメータを最適化\n",
    "    k_test = design_mat(x, test_data, 10.)\n",
    "    pred_list[i] = k_test.T.dot(theta).T  #テストデータがそのクラスかどうかを予測\n",
    "    \n",
    "pred_list = np.argmax(pred_list,axis=0)  # 最大値を示した関数のクラスを正解とする\n",
    "#print(pred_list)\n",
    "accuracy = np.mean(pred_list == test_label)\n",
    "print('accuracy : ', accuracy)\n",
    "confusion_mat(pred_list, test_label)"
   ]
  },
  {
   "cell_type": "markdown",
   "metadata": {},
   "source": [
    "### 1対1法\n",
    "2つの数字の組み合わせそれぞれについて２値分類する．クラス数をcとしてc(c-1)/2 回の2値分類問題を解く．  \n",
    "最終的にはデータを全ての関数に入力し，予測クラスを投票して多数決で決める．  "
   ]
  },
  {
   "cell_type": "code",
   "execution_count": 10,
   "metadata": {},
   "outputs": [],
   "source": [
    "# データ取得．指定した２クラスのデータを取得\n",
    "def get_data_1to1(data, idx1, idx2):\n",
    "    x = np.array([data[i] for i in range(train_num) if int(train_num/10)*idx1 <= i<int(train_num/10)*(idx1+1) or int(train_num/10)*idx2 <= i<int(train_num/10)*(idx2+1)])\n",
    "    y = np.ones(int(train_num/10)*2)\n",
    "    y[int(train_num/10):] = -1\n",
    "    return x, y"
   ]
  },
  {
   "cell_type": "code",
   "execution_count": 11,
   "metadata": {},
   "outputs": [
    {
     "name": "stdout",
     "output_type": "stream",
     "text": [
      "count :  0\n",
      "count :  1\n",
      "count :  2\n",
      "count :  3\n",
      "count :  4\n",
      "count :  5\n",
      "count :  6\n",
      "count :  7\n",
      "count :  8\n",
      "count :  9\n",
      "count :  10\n",
      "count :  11\n",
      "count :  12\n",
      "count :  13\n",
      "count :  14\n",
      "count :  15\n",
      "count :  16\n",
      "count :  17\n",
      "count :  18\n",
      "count :  19\n",
      "count :  20\n",
      "count :  21\n",
      "count :  22\n",
      "count :  23\n",
      "count :  24\n",
      "count :  25\n",
      "count :  26\n",
      "count :  27\n",
      "count :  28\n",
      "count :  29\n",
      "count :  30\n",
      "count :  31\n",
      "count :  32\n",
      "count :  33\n",
      "count :  34\n",
      "count :  35\n",
      "count :  36\n",
      "count :  37\n",
      "count :  38\n",
      "count :  39\n",
      "count :  40\n",
      "count :  41\n",
      "count :  42\n",
      "count :  43\n",
      "count :  44\n",
      "accuracy :  0.947\n",
      "[[195   0   2   0   0   0   2   0   1   0]\n",
      " [  0 199   0   0   0   1   0   0   0   0]\n",
      " [  0   0 187   3   6   0   0   1   2   1]\n",
      " [  0   0   1 190   0   5   0   1   3   0]\n",
      " [  0   0   0   0 193   1   2   0   0   4]\n",
      " [  3   0   1   8   2 182   1   0   0   3]\n",
      " [  2   0   2   0   1   2 193   0   0   0]\n",
      " [  0   0   1   0   6   0   0 187   1   5]\n",
      " [  1   0   1   5   5   6   0   1 177   4]\n",
      " [  0   1   0   0   2   0   0   5   1 191]]\n"
     ]
    },
    {
     "data": {
      "image/png": "[encoded data removed]",
      "text/plain": [
       "<Figure size 720x504 with 2 Axes>"
      ]
     },
     "metadata": {},
     "output_type": "display_data"
    }
   ],
   "source": [
    "pred_list = np.zeros((45,test_num))\n",
    "idx_list = np.empty((0,2), int)\n",
    "count = 0  # 予測関数のindex(0〜44)\n",
    "for i in range(10):\n",
    "    for j in range(10):\n",
    "        if i>=j:\n",
    "            continue\n",
    "        print('count : ',count)\n",
    "        idx_list = np.append(idx_list, np.array([[i,j]]), axis=0)  # 重複のないクラスの組\n",
    "        x, y = get_data_1to1(train_data, i, j)\n",
    "        k = design_mat(x, x, 10.)\n",
    "        theta = optimize(k, y, 1.)  # 予測関数のパラメータを最適化\n",
    "\n",
    "        k_test = design_mat(x, test_data, 10.)\n",
    "        pred_list[count] = k_test.T.dot(theta).T  # テストデータがどちらのクラスかの予測値\n",
    "        count += 1\n",
    "\n",
    "pred_final = np.zeros((10,test_num))\n",
    "for i in range(45):\n",
    "    tr = (pred_list[i] > 0)\n",
    "    fl = (pred_list[i] < 0)\n",
    "    pred_final[idx_list[i,0], tr] += 1  # 0以上なら始めのindexのクラス，０以下ならもう一方のクラスに投票\n",
    "    pred_final[idx_list[i,1], fl] += 1\n",
    "\n",
    "pred_final = np.argmax(pred_final,axis=0)  # 最大得票のクラスを予測とする\n",
    "#print(pred_final) \n",
    "accuracy = np.mean(pred_final == test_label)\n",
    "print('accuracy : ', accuracy)\n",
    "confusion_mat(pred_final, test_label)"
   ]
  },
  {
   "cell_type": "markdown",
   "metadata": {},
   "source": [
    "1対他法は入力するデータのアンバランスが激しい，1対1法は計算するパターンが多いという欠点がある．  \n",
    "今回のような数字データではどちらもかなり高い正答率を示しており性能に大きな差がないため，\n",
    "計算時間の短い1対他法を使うのが適切と考えられる．  "
   ]
  },
  {
   "cell_type": "code",
   "execution_count": null,
   "metadata": {},
   "outputs": [],
   "source": []
  }
 ],
 "metadata": {
  "kernelspec": {
   "display_name": "Python 3",
   "language": "python",
   "name": "python3"
  },
  "language_info": {
   "codemirror_mode": {
    "name": "ipython",
    "version": 3
   },
   "file_extension": ".py",
   "mimetype": "text/x-python",
   "name": "python",
   "nbconvert_exporter": "python",
   "pygments_lexer": "ipython3",
   "version": "3.6.5"
  }
 },
 "nbformat": 4,
 "nbformat_minor": 2
}
