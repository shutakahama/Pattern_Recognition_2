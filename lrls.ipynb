{
 "cells": [
  {
   "cell_type": "markdown",
   "metadata": {},
   "source": [
    "# ラプラス正則化最小二乗分類\n",
    "データのうちラベル付けされたものが半教師付き学習の設定．  \n",
    "データ空間で近傍にある点同士の出力が滑らかになるような制約式を加えることで，ラベルなしデータを活用する．  "
   ]
  },
  {
   "cell_type": "markdown",
   "metadata": {},
   "source": [
    "### 宿題1 ガウスカーネルモデルに対してラプラス正則化最小二乗分類を実装せよ"
   ]
  },
  {
   "cell_type": "code",
   "execution_count": 1,
   "metadata": {},
   "outputs": [],
   "source": [
    "import numpy as np\n",
    "import matplotlib\n",
    "from scipy.stats import norm\n",
    "\n",
    "%matplotlib inline\n",
    "import matplotlib.pyplot as plt"
   ]
  },
  {
   "cell_type": "code",
   "execution_count": 2,
   "metadata": {},
   "outputs": [],
   "source": [
    "# データ生成\n",
    "def generate_data(n, random_state):\n",
    "    np.random.seed(random_state)\n",
    "    x = np.linspace(0, np.pi, n // 2)\n",
    "    u = np.stack([np.cos(x) + .5, -np.sin(x)], axis=1) * 10.\n",
    "    u += np.random.normal(size=u.shape)\n",
    "    v = np.stack([np.cos(x) - .5, np.sin(x)], axis=1) * 10.\n",
    "    v += np.random.normal(size=v.shape)\n",
    "    x = np.concatenate([u, v], axis=0)\n",
    "    y = np.zeros(n)\n",
    "    y[0] = 1\n",
    "    y[-1] = -1\n",
    "    return x, y"
   ]
  },
  {
   "cell_type": "code",
   "execution_count": 3,
   "metadata": {},
   "outputs": [],
   "source": [
    "# ラプラス正則化最小二乗分類\n",
    "def lrls(x, y, h=1., l=1., nu=1.):\n",
    "    \"\"\"\n",
    "    :param x: data points\n",
    "    :param y: labels of data points\n",
    "    :param h: width parameter of the Gaussian kernel\n",
    "    :param l: weight decay\n",
    "    :param nu: Laplace regularization\n",
    "    :return:\n",
    "    \"\"\"\n",
    "    #labelがついているものを取り出す\n",
    "    x_label = x[(y == 1) | (y == -1)]\n",
    "    y_label = y[(y == 1) | (y == -1)]\n",
    "    \n",
    "    #Lを求める\n",
    "    W = np.exp(-np.sum((x[:, None] - x[None]) ** 2, axis=2)/ (2 * h ** 2))\n",
    "    _D = np.sum(W, axis=1)\n",
    "    D = np.diag(_D)\n",
    "    L = D - W\n",
    "    \n",
    "    #カーネル行列を求める\n",
    "    k = W\n",
    "    k_label = np.exp(-np.sum((x_label[:, None] - x[None]) ** 2, axis=2)/ (2 * h ** 2))\n",
    "    \n",
    "    #thetaの計算\n",
    "    theta = np.linalg.solve(k_label.T.dot(k_label) + l*np.identity(len(k))+2*nu*k.T.dot(L.dot(k)), k_label.T.dot(y_label[:, None]))\n",
    "\n",
    "    return theta"
   ]
  },
  {
   "cell_type": "code",
   "execution_count": 4,
   "metadata": {},
   "outputs": [],
   "source": [
    "# 可視化\n",
    "def visualize(x, y, theta, h=1.):\n",
    "    plt.clf()\n",
    "    plt.figure(figsize=(6, 6))\n",
    "    plt.xlim(-20., 20.)\n",
    "    plt.ylim(-20., 20.)\n",
    "    grid_size = 100\n",
    "    grid = np.linspace(-20., 20., grid_size)\n",
    "    X, Y = np.meshgrid(grid, grid)\n",
    "    mesh_grid = np.stack([np.ravel(X), np.ravel(Y)], axis=1)\n",
    "    k = np.exp(-np.sum((x.astype(np.float32)[:, None] - mesh_grid.astype(\n",
    "        np.float32)[None]) ** 2, axis=2).astype(np.float64) / (2 * h ** 2))\n",
    "    plt.contourf(X, Y, np.reshape(np.sign(k.T.dot(theta)),\n",
    "                                  (grid_size, grid_size)),\n",
    "                 alpha=.4, cmap=plt.cm.coolwarm)\n",
    "    plt.scatter(x[y == 0][:, 0], x[y == 0][:, 1], marker='$.$', c='black')\n",
    "    plt.scatter(x[y == 1][:, 0], x[y == 1][:, 1], marker='$X$', c='red')\n",
    "    plt.scatter(x[y == -1][:, 0], x[y == -1][:, 1], marker='$O$', c='blue')\n",
    "    plt.savefig('lecture9-h1.png')"
   ]
  },
  {
   "cell_type": "code",
   "execution_count": 5,
   "metadata": {
    "scrolled": true
   },
   "outputs": [
    {
     "data": {
      "text/plain": [
       "<Figure size 432x288 with 0 Axes>"
      ]
     },
     "metadata": {},
     "output_type": "display_data"
    },
    {
     "data": {
      "image/png": "[encoded data removed]",
      "text/plain": [
       "<Figure size 432x432 with 1 Axes>"
      ]
     },
     "metadata": {},
     "output_type": "display_data"
    }
   ],
   "source": [
    "x, y = generate_data(n=200, random_state=0)\n",
    "theta = lrls(x, y, h=1.)\n",
    "visualize(x, y, theta)"
   ]
  },
  {
   "cell_type": "markdown",
   "metadata": {},
   "source": [
    "ラベル付きデータは2つのカテゴリ中にそれぞれ1つずつしかない設定としているが，  \n",
    "うまくクラスタを考慮してラベルのないデータに対しても正しく分類できている．  "
   ]
  },
  {
   "cell_type": "code",
   "execution_count": null,
   "metadata": {},
   "outputs": [],
   "source": []
  }
 ],
 "metadata": {
  "kernelspec": {
   "display_name": "Python 3",
   "language": "python",
   "name": "python3"
  },
  "language_info": {
   "codemirror_mode": {
    "name": "ipython",
    "version": 3
   },
   "file_extension": ".py",
   "mimetype": "text/x-python",
   "name": "python",
   "nbconvert_exporter": "python",
   "pygments_lexer": "ipython3",
   "version": "3.6.5"
  }
 },
 "nbformat": 4,
 "nbformat_minor": 2
}
