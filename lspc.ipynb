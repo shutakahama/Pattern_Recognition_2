{
 "cells": [
  {
   "cell_type": "markdown",
   "metadata": {},
   "source": [
    "# 最小二乗確率的分類\n",
    "ガウスカーネルモデルに対して，最小二乗確率的分類の手法で多クラス分類を行う．  \n",
    "二乗誤差の最小化を標本近似によって行う．  \n",
    "この場合解は解析的に求まる．  \n",
    "θ= (Φ^T Φ - λI) ^(-1) Φ^T π"
   ]
  },
  {
   "cell_type": "code",
   "execution_count": 1,
   "metadata": {},
   "outputs": [],
   "source": [
    "import numpy as np\n",
    "%matplotlib inline\n",
    "import matplotlib.pyplot as plt"
   ]
  },
  {
   "cell_type": "code",
   "execution_count": 2,
   "metadata": {},
   "outputs": [],
   "source": [
    "# training data生成\n",
    "def generate_data(sample_size, n_class):\n",
    "    np.random.seed(1)\n",
    "    x = (np.random.normal(size=(sample_size // n_class, n_class))\n",
    "         + np.linspace(-3., 3., n_class)).flatten()\n",
    "    y = np.broadcast_to(np.arange(n_class),\n",
    "                        (sample_size // n_class, n_class)).flatten()\n",
    "    return x, y"
   ]
  },
  {
   "cell_type": "code",
   "execution_count": 3,
   "metadata": {},
   "outputs": [],
   "source": [
    "#ガウスカーネルを生成\n",
    "def calc_design_matrix(x, c, h):\n",
    "    return np.exp(-(x[None] - c[:, None]) ** 2 / (2 * h ** 2))"
   ]
  },
  {
   "cell_type": "code",
   "execution_count": 4,
   "metadata": {},
   "outputs": [],
   "source": [
    "# テスト&プロット\n",
    "def visualize(x, y, theta, h):\n",
    "    x_test = np.linspace(-5., 5., num=1000)\n",
    "    k_test = calc_design_matrix(x, x_test, h)\n",
    "    pred_test = np.maximum(0, k_test.dot(theta))\n",
    "    pred_test = pred_test / np.sum(pred_test, axis=1, keepdims=True)\n",
    "    \n",
    "    plt.clf()\n",
    "    plt.xlim(-5, 5)\n",
    "    plt.ylim(-.3, 1.8)\n",
    "\n",
    "    plt.plot(x_test, pred_test[:, 0], c='blue')\n",
    "    plt.plot(x_test, pred_test[:, 1], c='red')\n",
    "    plt.plot(x_test, pred_test[:, 2], c='green')\n",
    "\n",
    "    plt.scatter(x[y == 0], -.1 * np.ones(len(x) // 3), c='blue', marker='o')\n",
    "    plt.scatter(x[y == 1], -.2 * np.ones(len(x) // 3), c='red', marker='x')\n",
    "    plt.scatter(x[y == 2], -.1 * np.ones(len(x) // 3), c='green', marker='v')\n",
    "\n",
    "    #plt.savefig('lecture7.png')\n",
    "    plt.show()"
   ]
  },
  {
   "cell_type": "code",
   "execution_count": 5,
   "metadata": {
    "scrolled": true
   },
   "outputs": [
    {
     "data": {
      "image/png": "[encoded data removed]",
      "text/plain": [
       "<Figure size 432x288 with 1 Axes>"
      ]
     },
     "metadata": {},
     "output_type": "display_data"
    }
   ],
   "source": [
    "l = 10\n",
    "h = 1\n",
    "n_class = 3\n",
    "sample_size = 90\n",
    "\n",
    "#訓練データで最適なパラメータを求める\n",
    "x, y = generate_data(sample_size, n_class)\n",
    "k = calc_design_matrix(x, x, h)\n",
    "phi = np.zeros((sample_size, n_class))\n",
    "for i in range(n_class):\n",
    "    phi[:, i] = (y == i)\n",
    "#解析解\n",
    "theta = np.linalg.solve(k.T.dot(k) + l*np.identity(len(k)), k.T.dot(phi))\n",
    "\n",
    "visualize(x, y, theta, h)"
   ]
  },
  {
   "cell_type": "markdown",
   "metadata": {},
   "source": [
    "クラス数3の一次元データの分類．下の点が各標本を表す（色はクラス情報）．  \n",
    "各曲線はそれぞれのクラスである確率を表現している．   \n",
    "分布に重複のある多クラス識別問題でも適切に確率が表現できている．  \n",
    "パラメータIやhの選び方によってはかなり結果に差が出る．  "
   ]
  },
  {
   "cell_type": "code",
   "execution_count": null,
   "metadata": {},
   "outputs": [],
   "source": []
  }
 ],
 "metadata": {
  "kernelspec": {
   "display_name": "Python 3",
   "language": "python",
   "name": "python3"
  },
  "language_info": {
   "codemirror_mode": {
    "name": "ipython",
    "version": 3
   },
   "file_extension": ".py",
   "mimetype": "text/x-python",
   "name": "python",
   "nbconvert_exporter": "python",
   "pygments_lexer": "ipython3",
   "version": "3.6.5"
  }
 },
 "nbformat": 4,
 "nbformat_minor": 2
}
