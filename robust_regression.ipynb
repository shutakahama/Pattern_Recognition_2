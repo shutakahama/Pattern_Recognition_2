{
 "cells": [
  {
   "cell_type": "markdown",
   "metadata": {},
   "source": [
    "# ロバスト回帰\n",
    "外れ値があるようなデータに直線モデルを適応させる．  \n",
    "繰り返し最小二乗アルゴリズムを使ったフーバー回帰，テューキー回帰を実装．  "
   ]
  },
  {
   "cell_type": "code",
   "execution_count": 1,
   "metadata": {},
   "outputs": [],
   "source": [
    "import numpy as np\n",
    "%matplotlib inline\n",
    "import matplotlib.pyplot as plt"
   ]
  },
  {
   "cell_type": "code",
   "execution_count": 2,
   "metadata": {},
   "outputs": [],
   "source": [
    "# データ生成\n",
    "np.random.seed(1)\n",
    "def generate_sample(x_min=-3., x_max=3., sample_size=10):\n",
    "    x = np.linspace(x_min, x_max, num=sample_size)\n",
    "    y = x + np.random.normal(loc=0., scale=.2, size=sample_size)\n",
    "    # y[-1] = -4   # outlier\n",
    "    y[-1] = y[-2] = y[1] = -4   # outliers\n",
    "    return x, y"
   ]
  },
  {
   "cell_type": "code",
   "execution_count": 3,
   "metadata": {},
   "outputs": [],
   "source": [
    "def build_design_matrix(x):\n",
    "    phi = np.empty(x.shape + (2,))\n",
    "    phi[:, 0] = 1.\n",
    "    phi[:, 1] = x\n",
    "    return phi"
   ]
  },
  {
   "cell_type": "code",
   "execution_count": 4,
   "metadata": {},
   "outputs": [],
   "source": [
    "# 繰り返し最小二乗アルゴリズム\n",
    "def iterative_reweighted_least_squares(x, y, method='huber', eta=1., n_iter=1000):\n",
    "    phi = build_design_matrix(x)\n",
    "    # theta = theta_prev = np.random.rand(2)\n",
    "    # initialize theta using the solution of regularized ridge regression\n",
    "    theta = theta_prev = np.linalg.solve(phi.T.dot(phi) + 1e-4 * np.identity(phi.shape[1]), phi.T.dot(y))\n",
    "    \n",
    "    for _ in range(n_iter):\n",
    "        # フーバー回帰\n",
    "        if method == 'huber':\n",
    "            r = np.abs(phi.dot(theta_prev) - y)\n",
    "            w = np.diag(np.where(r > eta, eta / r, 1.))\n",
    "        \n",
    "        #テューキー回帰\n",
    "        if method == 'tukey':\n",
    "            r = phi.dot(theta_prev) - y\n",
    "            _w = np.power((1 - r*r/eta**2),2)\n",
    "            w = np.diag(np.where(np.abs(r) <= eta, _w, 0))\n",
    "        \n",
    "        phit_w_phi = phi.T.dot(w).dot(phi)\n",
    "        phit_w_y = phi.T.dot(w).dot(y)\n",
    "        theta = np.linalg.solve(phit_w_phi, phit_w_y)\n",
    "        if np.linalg.norm(theta - theta_prev) < 1e-3:\n",
    "            break\n",
    "        theta_prev = theta\n",
    "    return theta"
   ]
  },
  {
   "cell_type": "code",
   "execution_count": 5,
   "metadata": {},
   "outputs": [],
   "source": [
    "def predict(x, theta):\n",
    "    phi = build_design_matrix(x)\n",
    "    return phi.dot(theta)"
   ]
  },
  {
   "cell_type": "code",
   "execution_count": 6,
   "metadata": {},
   "outputs": [],
   "source": [
    "def visualize(x, y, theta, x_min=-4., x_max=4., filename='homework4.png'):\n",
    "    X = np.linspace(x_min, x_max, 1000)\n",
    "    Y = predict(X, theta)\n",
    "    plt.clf()\n",
    "    plt.plot(X, Y, color='green')\n",
    "    plt.scatter(x, y, c='blue', marker='o')\n",
    "    plt.savefig(filename)"
   ]
  },
  {
   "cell_type": "code",
   "execution_count": 7,
   "metadata": {
    "scrolled": false
   },
   "outputs": [
    {
     "data": {
      "image/png": "[encoded data removed]",
      "text/plain": [
       "<Figure size 432x288 with 1 Axes>"
      ]
     },
     "metadata": {},
     "output_type": "display_data"
    }
   ],
   "source": [
    "# フーバー回帰\n",
    "x, y = generate_sample()\n",
    "theta = iterative_reweighted_least_squares(x, y, method='huber', eta=1.)\n",
    "visualize(x, y, theta)"
   ]
  },
  {
   "cell_type": "code",
   "execution_count": 8,
   "metadata": {},
   "outputs": [
    {
     "data": {
      "image/png": "[encoded data removed]",
      "text/plain": [
       "<Figure size 432x288 with 1 Axes>"
      ]
     },
     "metadata": {},
     "output_type": "display_data"
    }
   ],
   "source": [
    "# フーバー回帰\n",
    "x, y = generate_sample()\n",
    "theta = iterative_reweighted_least_squares(x, y, method='tukey', eta=1.)\n",
    "visualize(x, y, theta)"
   ]
  },
  {
   "cell_type": "markdown",
   "metadata": {},
   "source": [
    "フーバー回帰はL1 lossとL2 lossの中間的なロスであるため外れ値に対してロバストではあるが，\n",
    "いくらか外れ値の影響を受けるため直線がやや下に寄っている．  \n",
    "テューキー回帰は損失関数に上限を定めているため大きな外れ値の影響をほとんど受けない．  "
   ]
  },
  {
   "cell_type": "code",
   "execution_count": null,
   "metadata": {},
   "outputs": [],
   "source": []
  }
 ],
 "metadata": {
  "kernelspec": {
   "display_name": "Python 3",
   "language": "python",
   "name": "python3"
  },
  "language_info": {
   "codemirror_mode": {
    "name": "ipython",
    "version": 3
   },
   "file_extension": ".py",
   "mimetype": "text/x-python",
   "name": "python",
   "nbconvert_exporter": "python",
   "pygments_lexer": "ipython3",
   "version": "3.6.5"
  }
 },
 "nbformat": 4,
 "nbformat_minor": 2
}
