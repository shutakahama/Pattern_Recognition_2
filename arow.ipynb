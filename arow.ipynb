{
 "cells": [
  {
   "cell_type": "markdown",
   "metadata": {},
   "source": [
    "# 適応正則化分類\n",
    "学習データが1つずつ入ってくるオンライン学習での分類問題．  \n",
    "パラメータの平均μ，分散Σを更新することで適応的にパラメータを更新していく．  "
   ]
  },
  {
   "cell_type": "code",
   "execution_count": 1,
   "metadata": {},
   "outputs": [],
   "source": [
    "import numpy as np\n",
    "%matplotlib inline\n",
    "import matplotlib.pyplot as plt"
   ]
  },
  {
   "cell_type": "code",
   "execution_count": 2,
   "metadata": {},
   "outputs": [],
   "source": [
    "# データ生成\n",
    "def data_generate(n=50, random_state=0):\n",
    "    np.random.seed(random_state)\n",
    "    x = np.random.randn(n, 3)\n",
    "    x[:n // 2, 0] -= 15\n",
    "    x[n // 2:, 0] -= 5\n",
    "    x[1:3, 0] += 10\n",
    "    x[:, 2] = 1\n",
    "    y = np.concatenate((np.ones(n // 2), -np.ones(n // 2)))\n",
    "    index = np.random.permutation(np.arange(n))\n",
    "    return x[index], y[index]"
   ]
  },
  {
   "cell_type": "code",
   "execution_count": 3,
   "metadata": {},
   "outputs": [],
   "source": [
    "def ada_reg(x, y, n, iteration, gamma, lr, random_state=0):\n",
    "    np.random.seed(random_state)\n",
    "    mu = np.random.randn(3)\n",
    "    sigma = np.random.randn(3,3)\n",
    "    for _ in range(iteration):\n",
    "        idx = np.random.randint(0, n)\n",
    "        \n",
    "        #平均ベクトルの計算\n",
    "        tmp1 = y[idx] * np.maximum(0, 1-np.dot(mu.T,x[idx])*y[idx])\n",
    "        tmp2 = np.dot(x[idx].T, np.dot(sigma,x[idx])) + gamma\n",
    "        mu += tmp1*np.dot(sigma,x[idx])/tmp2\n",
    "        #print(mu)\n",
    "        \n",
    "        #分散共分散行列の計算\n",
    "        tmp3 = np.dot(np.dot(sigma,x[idx])[:,None],np.dot(x[idx],sigma)[:,None].T)\n",
    "        sigma -= tmp3/tmp2\n",
    "        #print(sigma)\n",
    "        \n",
    "    return mu, sigma"
   ]
  },
  {
   "cell_type": "code",
   "execution_count": 4,
   "metadata": {},
   "outputs": [],
   "source": [
    "#プロット\n",
    "def visualize(x, y, w):\n",
    "    plt.clf()\n",
    "    plt.xlim(-20, 0)\n",
    "    plt.ylim(-3, 3)\n",
    "    plt.scatter(x[y == 1][:,0], x[y == 1][:,1], c='blue')\n",
    "    plt.scatter(x[y == -1][:,0], x[y == -1][:,1], c='red')\n",
    "    plt.plot([-20,0], -(w[2] + np.array([-20, 0]) * w[0]) / w[1])\n",
    "    #plt.savefig('lecture8.png')\n",
    "    plt.show()"
   ]
  },
  {
   "cell_type": "code",
   "execution_count": 6,
   "metadata": {},
   "outputs": [
    {
     "data": {
      "image/png": "[encoded data removed]",
      "text/plain": [
       "<Figure size 432x288 with 1 Axes>"
      ]
     },
     "metadata": {},
     "output_type": "display_data"
    }
   ],
   "source": [
    "#実行セル\n",
    "n = 50 #サンプル数\n",
    "gamma = 10 #正則化パラメータ\n",
    "lr = 0.01 #学習率\n",
    "iter_num = n*100 #繰り返し回数\n",
    "\n",
    "x, y = data_generate(random_state=0)\n",
    "mu, sigma = ada_reg(x, y, n, iter_num, gamma, lr, random_state=0)\n",
    "visualize(x,y,mu)"
   ]
  },
  {
   "cell_type": "markdown",
   "metadata": {},
   "source": [
    "50個のデータに対して5000回更新を行ったところ，ノイズを含んだデータ分布でも正しく分類境界が引けていることがわかる．"
   ]
  },
  {
   "cell_type": "code",
   "execution_count": null,
   "metadata": {},
   "outputs": [],
   "source": []
  }
 ],
 "metadata": {
  "kernelspec": {
   "display_name": "Python 3",
   "language": "python",
   "name": "python3"
  },
  "language_info": {
   "codemirror_mode": {
    "name": "ipython",
    "version": 3
   },
   "file_extension": ".py",
   "mimetype": "text/x-python",
   "name": "python",
   "nbconvert_exporter": "python",
   "pygments_lexer": "ipython3",
   "version": "3.6.5"
  }
 },
 "nbformat": 4,
 "nbformat_minor": 2
}
