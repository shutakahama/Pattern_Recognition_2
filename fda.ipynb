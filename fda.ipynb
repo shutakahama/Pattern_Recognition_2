{
 "cells": [
  {
   "cell_type": "markdown",
   "metadata": {},
   "source": [
    "# フィッシャー判別分析\n",
    "教師ありでクラスタを持つデータに対してフィッシャー判別分析を適用し，クラスカテゴリを考慮した射影直線を求める  \n",
    "クラス間分散を最大に，クラス内分散を最小にするように一般固有値問題を解く"
   ]
  },
  {
   "cell_type": "code",
   "execution_count": 1,
   "metadata": {},
   "outputs": [],
   "source": [
    "import numpy as np\n",
    "from scipy.linalg import eig\n",
    "%matplotlib inline\n",
    "import matplotlib.pyplot as plt"
   ]
  },
  {
   "cell_type": "code",
   "execution_count": 2,
   "metadata": {},
   "outputs": [],
   "source": [
    "# データ生成\n",
    "def generate_data(sample_size=100, random_state=0, pattern='two_cluster'):\n",
    "    np.random.seed(random_state)\n",
    "    if pattern not in ['two_cluster', 'three_cluster']:\n",
    "        raise ValueError('Dataset pattern must be one of '\n",
    "                         '[two_cluster, three_cluster].')\n",
    "    x = np.random.normal(size=(sample_size, 2))\n",
    "    if pattern == 'two_cluster':\n",
    "        x[:sample_size // 2, 0] -= 4\n",
    "        x[sample_size // 2:, 0] += 4\n",
    "    else:\n",
    "        x[:sample_size // 4, 0] -= 4\n",
    "        x[sample_size // 4:sample_size // 2, 0] += 4\n",
    "    y = np.ones(sample_size, dtype=np.int64)\n",
    "    y[sample_size // 2:] = 2\n",
    "    return x, y"
   ]
  },
  {
   "cell_type": "code",
   "execution_count": 3,
   "metadata": {},
   "outputs": [],
   "source": [
    "# 実行関数\n",
    "def fda(x, y):\n",
    "    x = x - np.mean(x, axis=0)\n",
    "    \n",
    "    num1 = np.sum(y == 1)\n",
    "    num2 = np.sum(y == 2)\n",
    "    \n",
    "    mu1 = np.mean(x[y == 1],axis=0)\n",
    "    mu2 = np.mean(x[y == 2],axis=0)\n",
    "\n",
    "    # s_b -> クラス間分散\n",
    "    s_b = num1*np.dot(mu1[:,None],mu1[None]) + num2*np.dot(mu2[:,None],mu2[None])\n",
    "    #print(s_b)\n",
    "    \n",
    "    # s_b -> クラス内分散\n",
    "    s_w = np.zeros((2,2))\n",
    "    for i in range(len(x)):\n",
    "        _x = x[i] - mu1 if y[i] == 1 else x[i] - mu2\n",
    "        s_w += np.dot(_x[:,None],_x[None])\n",
    "    #print(s_w)\n",
    "    \n",
    "    w, v = eig(s_b, s_w)  # 一般固有値問題\n",
    "    v = v[np.argsort(-w)]\n",
    "    w = w[np.argsort(-w)]\n",
    "    \n",
    "    return v[:1, :]"
   ]
  },
  {
   "cell_type": "code",
   "execution_count": 4,
   "metadata": {},
   "outputs": [],
   "source": [
    "# 射影曲線の可視化\n",
    "def visualize(x, y, T, pattern):\n",
    "    plt.figure(1, (6, 6))\n",
    "    plt.clf()\n",
    "    plt.xlim(-7., 7.)\n",
    "    plt.ylim(-7., 7.)\n",
    "    plt.plot(x[y == 1, 0], x[y == 1, 1], 'bo', label='class-1')\n",
    "    plt.plot(x[y == 2, 0], x[y == 2, 1], 'rx', label='class-2')\n",
    "    plt.plot(np.array([-T[:, 0], T[:, 0]]) * 9,\n",
    "             np.array([-T[:, 1], T[:, 1]]) * 9, 'k-')\n",
    "    plt.legend()\n",
    "    plt.savefig(f'result/fda_{pattern}.png')\n",
    "    plt.plot()"
   ]
  },
  {
   "cell_type": "code",
   "execution_count": 5,
   "metadata": {
    "scrolled": true
   },
   "outputs": [
    {
     "name": "stdout",
     "output_type": "stream",
     "text": [
      "[[-0.99943392 -0.01003627]]\n"
     ]
    },
    {
     "data": {
      "image/png": "[encoded data removed]",
      "text/plain": [
       "<Figure size 432x432 with 1 Axes>"
      ]
     },
     "metadata": {
      "needs_background": "light"
     },
     "output_type": "display_data"
    }
   ],
   "source": [
    "# データのクラスタが2つの場合\n",
    "sample_size = 100\n",
    "pattern = 'two_cluster'\n",
    "x, y = generate_data(sample_size=sample_size, random_state=0, pattern=pattern)\n",
    "T = fda(x, y)\n",
    "print(T)\n",
    "visualize(x, y, T, pattern)"
   ]
  },
  {
   "cell_type": "code",
   "execution_count": 6,
   "metadata": {},
   "outputs": [
    {
     "name": "stdout",
     "output_type": "stream",
     "text": [
      "[[-0.4061372  0.9986941]]\n"
     ]
    },
    {
     "data": {
      "image/png": "[encoded data removed]",
      "text/plain": [
       "<Figure size 432x432 with 1 Axes>"
      ]
     },
     "metadata": {
      "needs_background": "light"
     },
     "output_type": "display_data"
    }
   ],
   "source": [
    "# データのクラスタが３つの場合\n",
    "sample_size = 100\n",
    "pattern = 'three_cluster'\n",
    "x, y = generate_data(sample_size=sample_size,  random_state=0,  pattern='three_cluster')\n",
    "T = fda(x, y)\n",
    "print(T)\n",
    "visualize(x, y, T, pattern)"
   ]
  },
  {
   "cell_type": "markdown",
   "metadata": {},
   "source": [
    "データが2つのクラスタを持つような場合はクラスごとの差が大きくなるような射影曲線を求めることができている．  \n",
    "データのクラスタが１クラスに2つ以上あるような場合は単純に同じクラスの全てのデータのクラス内分散を求めるのは適切でないため，うまく射影曲線が引けていない．  \n",
    "このような場合は局所フィッシャー判別分析などの手法が有効である．  "
   ]
  },
  {
   "cell_type": "code",
   "execution_count": null,
   "metadata": {},
   "outputs": [],
   "source": []
  }
 ],
 "metadata": {
  "kernelspec": {
   "display_name": "Python 3",
   "language": "python",
   "name": "python3"
  },
  "language_info": {
   "codemirror_mode": {
    "name": "ipython",
    "version": 3
   },
   "file_extension": ".py",
   "mimetype": "text/x-python",
   "name": "python",
   "nbconvert_exporter": "python",
   "pygments_lexer": "ipython3",
   "version": "3.7.5"
  }
 },
 "nbformat": 4,
 "nbformat_minor": 4
}
