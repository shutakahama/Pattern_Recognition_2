{
 "cells": [
  {
   "cell_type": "markdown",
   "metadata": {},
   "source": [
    "# サポートベクトルマシン\n",
    "劣勾配アルゴリズムを使った線形モデルに対するサポートベクトルマシン"
   ]
  },
  {
   "cell_type": "code",
   "execution_count": 1,
   "metadata": {},
   "outputs": [],
   "source": [
    "import numpy as np\n",
    "%matplotlib inline\n",
    "import matplotlib.pyplot as plt"
   ]
  },
  {
   "cell_type": "code",
   "execution_count": 2,
   "metadata": {},
   "outputs": [],
   "source": [
    "# データ生成の関数\n",
    "def generate_data(sample_size, random_state):\n",
    "    np.random.seed(random_state)\n",
    "    \"\"\"Generate training data.\n",
    "\n",
    "    Since\n",
    "    f(x) = w^{T}x + b\n",
    "    can be written as\n",
    "    f(x) = (w^{T}, b)(x^{T}, 1)^{T},\n",
    "    for the sake of simpler implementation of SVM,\n",
    "    we return (x^{T}, 1)^{T} instead of x\n",
    "\n",
    "    :param sample_size: number of data points in the sample\n",
    "    :return: a tuple of data point and label\n",
    "    \"\"\"\n",
    "\n",
    "    x = np.random.normal(size=(sample_size, 3))\n",
    "    x[:, 2] = 1.\n",
    "    x[:sample_size // 2, 0] -= 5.\n",
    "    x[sample_size // 2:, 0] += 5.\n",
    "    y = np.concatenate([np.ones(sample_size // 2, dtype=np.int64),\n",
    "                        -np.ones(sample_size // 2, dtype=np.int64)])\n",
    "    x[:3, 1] -= 5.\n",
    "    y[:3] = -1\n",
    "    x[-3:, 1] += 5.\n",
    "    y[-3:] = 1\n",
    "    return x, y"
   ]
  },
  {
   "cell_type": "code",
   "execution_count": 3,
   "metadata": {},
   "outputs": [],
   "source": [
    "def svm(x, y, l, lr):\n",
    "    \"\"\"Linear SVM implementation using gradient descent algorithm.\n",
    "\n",
    "    f_w(x) = w^{T} (x^{T}, 1)^{T}\n",
    "\n",
    "    :param x: data points\n",
    "    :param y: label\n",
    "    :param l: regularization parameter\n",
    "    :param lr: learning rate\n",
    "    :return: three-dimensional vector w\n",
    "    \"\"\"\n",
    "\n",
    "    w = np.zeros(3)\n",
    "    prev_w = w.copy()\n",
    "    for i in range(10 ** 3):\n",
    "\n",
    "        # core\n",
    "        f = np.dot(x,w) * y\n",
    "        f_p = (1 - f > 0)\n",
    "        f_delta = np.zeros((len(f),3))\n",
    "        f_delta[f_p] = - np.tile(y[f_p],(3,1)).T * x[f_p]\n",
    "        w -= lr*(np.sum(f_delta,axis=0) + l*w)\n",
    "        #print(w)\n",
    "        #print(np.linalg.norm(w - prev_w))\n",
    "\n",
    "        if np.linalg.norm(w - prev_w) < 1e-3:\n",
    "            print('update count', i)\n",
    "            break\n",
    "        prev_w = w.copy()\n",
    "\n",
    "    return w"
   ]
  },
  {
   "cell_type": "code",
   "execution_count": 4,
   "metadata": {},
   "outputs": [],
   "source": [
    "# 可視化関数\n",
    "def visualize(x, y, w):\n",
    "    plt.clf()\n",
    "    plt.xlim(-10, 10)\n",
    "    plt.ylim(-10, 10)\n",
    "    plt.scatter(x[y == 1, 0], x[y == 1, 1])\n",
    "    plt.scatter(x[y == -1, 0], x[y == -1, 1])\n",
    "    plt.plot([-10, 10], -(w[2] + np.array([-10, 10]) * w[0]) / w[1])\n",
    "    plt.savefig('lecture6-h2.png')"
   ]
  },
  {
   "cell_type": "code",
   "execution_count": 5,
   "metadata": {
    "scrolled": false
   },
   "outputs": [
    {
     "name": "stdout",
     "output_type": "stream",
     "text": [
      "update count 377\n"
     ]
    },
    {
     "data": {
      "image/png": "[encoded data removed]",
      "text/plain": [
       "<Figure size 432x288 with 1 Axes>"
      ]
     },
     "metadata": {},
     "output_type": "display_data"
    }
   ],
   "source": [
    "#実行\n",
    "x, y = generate_data(200, 0) #generate_data(the number of data, random_state)\n",
    "w = svm(x, y, l= 0.1, lr= 0.001)\n",
    "visualize(x, y, w)"
   ]
  },
  {
   "cell_type": "code",
   "execution_count": null,
   "metadata": {},
   "outputs": [],
   "source": []
  }
 ],
 "metadata": {
  "kernelspec": {
   "display_name": "Python 3",
   "language": "python",
   "name": "python3"
  },
  "language_info": {
   "codemirror_mode": {
    "name": "ipython",
    "version": 3
   },
   "file_extension": ".py",
   "mimetype": "text/x-python",
   "name": "python",
   "nbconvert_exporter": "python",
   "pygments_lexer": "ipython3",
   "version": "3.6.5"
  }
 },
 "nbformat": 4,
 "nbformat_minor": 2
}
